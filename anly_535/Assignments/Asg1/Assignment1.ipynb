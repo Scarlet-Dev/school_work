{
 "cells": [
  {
   "cell_type": "code",
   "execution_count": 1,
   "metadata": {},
   "outputs": [],
   "source": [
    "import numpy as np"
   ]
  },
  {
   "cell_type": "code",
   "execution_count": 2,
   "metadata": {},
   "outputs": [],
   "source": [
    "# For first layer Z1=5x1, W1= 2x5, b1=5x1\n",
    "np.random.seed(seed= 289)\n",
    "x = np.array([[0.3], [0.4]])\n",
    "W1 = np.random.rand(2,5)\n",
    "b1= np.random.rand(5,1)\n",
    "# You find the value of b1"
   ]
  },
  {
   "cell_type": "code",
   "execution_count": 3,
   "metadata": {},
   "outputs": [
    {
     "data": {
      "text/plain": [
       "array([[0.48966863],\n",
       "       [0.61544854],\n",
       "       [0.62467448],\n",
       "       [0.08738796],\n",
       "       [0.90462271]])"
      ]
     },
     "execution_count": 3,
     "metadata": {},
     "output_type": "execute_result"
    }
   ],
   "source": [
    "b1"
   ]
  },
  {
   "cell_type": "code",
   "execution_count": 4,
   "metadata": {},
   "outputs": [
    {
     "data": {
      "text/plain": [
       "array([[0.70892956],\n",
       "       [0.71899282],\n",
       "       [0.70005254],\n",
       "       [0.58846646],\n",
       "       [0.80137956]])"
      ]
     },
     "execution_count": 4,
     "metadata": {},
     "output_type": "execute_result"
    }
   ],
   "source": [
    "z1 = np.dot(W1.transpose(),x)+b1      #Fill in the parantheses\n",
    "a1 = 1/(1+np.exp(-z1))\n",
    "a1"
   ]
  },
  {
   "cell_type": "code",
   "execution_count": 5,
   "metadata": {},
   "outputs": [],
   "source": [
    "# Design the second layer\n",
    "# For first layer Z2=1x1, W2=5x1 , b2=1x1\n",
    "np.random.seed(seed= 289)\n",
    "W2 = np.random.rand(5,1)\n",
    "b2 = np.random.rand(1,1)"
   ]
  },
  {
   "cell_type": "code",
   "execution_count": 6,
   "metadata": {},
   "outputs": [
    {
     "data": {
      "text/plain": [
       "array([[0.9312211]])"
      ]
     },
     "execution_count": 6,
     "metadata": {},
     "output_type": "execute_result"
    }
   ],
   "source": [
    "z2 = np.dot(W2.transpose(),a1)+b2\n",
    "a2 = 1/(1+np.exp(-z2))\n",
    "a2"
   ]
  },
  {
   "cell_type": "markdown",
   "metadata": {},
   "source": [
    "From the results we can see that both sensors indicate a strong probability of flooding."
   ]
  }
 ],
 "metadata": {
  "kernelspec": {
   "display_name": "Python 3.10.6 ('school-workload')",
   "language": "python",
   "name": "python3"
  },
  "language_info": {
   "codemirror_mode": {
    "name": "ipython",
    "version": 3
   },
   "file_extension": ".py",
   "mimetype": "text/x-python",
   "name": "python",
   "nbconvert_exporter": "python",
   "pygments_lexer": "ipython3",
   "version": "3.10.6"
  },
  "vscode": {
   "interpreter": {
    "hash": "f7931e34082dd1285c77b2337ec9c156b179829c6d03a844d970505d6a31bbbf"
   }
  }
 },
 "nbformat": 4,
 "nbformat_minor": 2
}
