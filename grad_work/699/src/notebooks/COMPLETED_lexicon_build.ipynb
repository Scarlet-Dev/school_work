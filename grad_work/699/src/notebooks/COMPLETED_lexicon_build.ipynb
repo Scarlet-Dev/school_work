{
 "cells": [
  {
   "cell_type": "code",
   "execution_count": 1,
   "metadata": {},
   "outputs": [],
   "source": [
    "import requests\n",
    "from bs4 import BeautifulSoup\n",
    "import pandas as pd\n",
    "import nltk\n",
    "from nltk.corpus import stopwords\n",
    "from nltk.tokenize import word_tokenize\n",
    "from nltk.sentiment.vader import SentimentIntensityAnalyzer\n",
    "from nltk.stem import WordNetLemmatizer"
   ]
  },
  {
   "cell_type": "code",
   "execution_count": 2,
   "metadata": {},
   "outputs": [],
   "source": [
    "reddit_url = \"https://www.reddit.com/r/IncelTear/wiki/incel-terminology/#wiki_appendix\"\n",
    "req = requests.get(reddit_url).text\n",
    "\n",
    "red_soup = BeautifulSoup(req, 'html.parser')   "
   ]
  },
  {
   "cell_type": "code",
   "execution_count": 3,
   "metadata": {},
   "outputs": [],
   "source": [
    "# select the div that contains the definitions\n",
    "raw_definitions = red_soup.find('div', class_='md wiki').select(\"p\")"
   ]
  },
  {
   "cell_type": "code",
   "execution_count": 4,
   "metadata": {},
   "outputs": [],
   "source": [
    "# pop first value\n",
    "raw_definitions.pop(0)\n",
    "\n",
    "# next select the first 106 rows\n",
    "raw_definitions = raw_definitions[0:106]"
   ]
  },
  {
   "cell_type": "code",
   "execution_count": 5,
   "metadata": {},
   "outputs": [],
   "source": [
    "# Define the preprocessing and sentimetn analysis functions\n",
    "def preprocess_text(text):\n",
    "\n",
    "    # Tokenize the text\n",
    "    tokens = word_tokenize(text.lower())\n",
    "    \n",
    "    # Remove stop words\n",
    "    filtered_tokens = [token for token in tokens if token not in stopwords.words('english')]\n",
    "\n",
    "    # Lemmatize the tokens\n",
    "    lemmatizer = WordNetLemmatizer()\n",
    "    lemmatized_tokens = [lemmatizer.lemmatize(token) for token in filtered_tokens]\n",
    "\n",
    "    # Join the tokens back into a string\n",
    "    processed_text = ' '.join(lemmatized_tokens)\n",
    "    return processed_text\n",
    "\n",
    "analyzer = SentimentIntensityAnalyzer()\n",
    "def get_sentiment(text):\n",
    "    \n",
    "    # Calculate sentiment in text\n",
    "    scores = analyzer.polarity_scores(text)\n",
    "    return scores"
   ]
  },
  {
   "cell_type": "code",
   "execution_count": 6,
   "metadata": {},
   "outputs": [],
   "source": [
    "glossary = { 'Word': [], 'Definition': [], 'Cleaned Text': [], 'Sentiment': [], 'Score': [] }\n",
    "i = 0\n",
    "# Iterate through the definitions\n",
    "for tag in raw_definitions:\n",
    "    i += 1\n",
    "    # Split definition into two sections\n",
    "    split_list = tag.text.split(':')\n",
    "    \n",
    "    # Store separated strings\n",
    "    word = split_list[0].strip()\n",
    "    definition = split_list[1].strip()\n",
    "    \n",
    "    # Clean the definition\n",
    "    cleaned_text = preprocess_text(definition)\n",
    "    \n",
    "    # Get the sentiment polarity\n",
    "    sentiment_scores = get_sentiment(cleaned_text)\n",
    "    \n",
    "    # Infer the sentiment flag\n",
    "    sentiment_flag = ''\n",
    "    if(sentiment_scores['pos'] > sentiment_scores['neg']):\n",
    "        sentiment_flag = 'positive'\n",
    "    elif(sentiment_scores['pos'] < sentiment_scores['neg']):\n",
    "        sentiment_flag = 'negative'\n",
    "    else:\n",
    "        sentiment_flag = 'neutral'\n",
    "    \n",
    "    # Finally, store values in dictionary\n",
    "    glossary['Word'].append(word)\n",
    "    glossary['Definition'].append(definition)\n",
    "    glossary[\"Cleaned Text\"].append(cleaned_text)\n",
    "    glossary['Sentiment'].append(sentiment_flag)\n",
    "    glossary['Score'].append(sentiment_scores['pos'] if sentiment_flag == 'positive' else\\\n",
    "        (sentiment_scores['neg'] if sentiment_flag == 'negative' else sentiment_scores['neu']))\n",
    "    \n",
    "    "
   ]
  },
  {
   "cell_type": "code",
   "execution_count": 7,
   "metadata": {},
   "outputs": [],
   "source": [
    "# Convert the dictionary into a datafram\n",
    "incelDF = pd.DataFrame.from_dict(glossary)\n",
    "incelDF.to_csv('./incelDF.csv', index=False)"
   ]
  }
 ],
 "metadata": {
  "kernelspec": {
   "display_name": "nlp",
   "language": "python",
   "name": "python3"
  },
  "language_info": {
   "codemirror_mode": {
    "name": "ipython",
    "version": 3
   },
   "file_extension": ".py",
   "mimetype": "text/x-python",
   "name": "python",
   "nbconvert_exporter": "python",
   "pygments_lexer": "ipython3",
   "version": "3.9.13"
  },
  "orig_nbformat": 4
 },
 "nbformat": 4,
 "nbformat_minor": 2
}
