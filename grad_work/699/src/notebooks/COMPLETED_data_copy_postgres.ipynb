{
 "cells": [
  {
   "cell_type": "code",
   "execution_count": null,
   "metadata": {},
   "outputs": [],
   "source": [
    "import psycopg2\n",
    "import os"
   ]
  },
  {
   "cell_type": "code",
   "execution_count": null,
   "metadata": {},
   "outputs": [],
   "source": [
    "data_path = '/media/arkane/database_space/raw_data/reddit/csv_converted/'\n",
    "filenames = os.listdir(data_path)\n",
    "\n",
    "filenames_no_ext = [file.replace('.csv', '') for file in filenames]\n",
    "filenames_no_ext.sort()\n",
    "\n",
    "file_paths = [data_path + file for file in filenames]\n",
    "file_paths.sort()"
   ]
  },
  {
   "cell_type": "code",
   "execution_count": null,
   "metadata": {},
   "outputs": [],
   "source": [
    "commnand = \"\"\n",
    "def create_tables(name):\n",
    "    command = f\"\"\"\n",
    "       CREATE TABLE \"{name}\" (\n",
    "        id varchar(20) PRIMARY KEY,\n",
    "        author varchar(50),\n",
    "        subreddit varchar(50),\n",
    "        subreddit_type varchar(10),\n",
    "        body text,\n",
    "        score int,\n",
    "        controversiality int,\n",
    "        created_utc int,\n",
    "        author_created_utc varchar(20)\n",
    "    );\n",
    "    \"\"\"\n",
    "    return command\n",
    "\n",
    "copy_cmd = \"\"  \n",
    "def copy_into_table(name, path):\n",
    "    copy_cmd = f\"\"\"\n",
    "        COPY \"{name}\" (id, author, subreddit,\n",
    "            subreddit_type, body, controversiality,\n",
    "                created_utc, score, author_created_utc)\n",
    "        FROM '{path}'\n",
    "        DELIMITER ','\n",
    "        NULL ''\n",
    "        ENCODING 'UTF8'\n",
    "        CSV HEADER;\n",
    "    \"\"\"\n",
    "    return copy_cmd"
   ]
  },
  {
   "cell_type": "code",
   "execution_count": null,
   "metadata": {},
   "outputs": [],
   "source": [
    "try:\n",
    "    \n",
    "    # Create psql connection\n",
    "    conn = psycopg2.connect(\"dbname='reddit_comments' host='localhost' user='admin' password='theLegend30$$'\")\n",
    "    cur = conn.cursor()\n",
    "    \n",
    "    \n",
    "    for fn, pt in zip(filenames_no_ext, file_paths):\n",
    "        # Create single table using filename\n",
    "        q1 = create_tables(fn)\n",
    "        # print(q1)\n",
    "        cur.execute(q1)\n",
    "        \n",
    "        # After try to copy csv into new table\n",
    "        q2 = copy_into_table(fn, pt)\n",
    "        # print(q2)\n",
    "        cur.execute(q2)\n",
    "        \n",
    "        # Commit changes\n",
    "        conn.commit()\n",
    "        \n",
    "        if(\"COPY\" in cur.statusmessage):\n",
    "            os.remove(pt)\n",
    "            print(f\"File '{pt}' was successfully deleted\")\n",
    "    \n",
    "    # q1 = create_tables(filenames_no_ext[0])\n",
    "    # cur.execute(q1)\n",
    "    \n",
    "    # q2 = copy_into_table(filenames_no_ext[0], file_paths[0])\n",
    "    # cur.execute(q2)\n",
    "    \n",
    "    # conn.commit()\n",
    "    \n",
    "    # if(\"COPY\" in cur.statusmessage):\n",
    "    #     os.remove(file_paths[0])\n",
    "    #     print(f\"File '{file_paths[0]}' was successfully deleted\")\n",
    "\n",
    "except(Exception, psycopg2.DatabaseError) as error:\n",
    "    conn.rollback()\n",
    "    print(error)\n",
    "\n",
    "finally:\n",
    "    if conn is not None:\n",
    "        cur.close()\n",
    "        conn.close()\n",
    "    "
   ]
  }
 ],
 "metadata": {
  "kernelspec": {
   "display_name": "base",
   "language": "python",
   "name": "python3"
  },
  "language_info": {
   "codemirror_mode": {
    "name": "ipython",
    "version": 3
   },
   "file_extension": ".py",
   "mimetype": "text/x-python",
   "name": "python",
   "nbconvert_exporter": "python",
   "pygments_lexer": "ipython3",
   "version": "3.9.16"
  },
  "orig_nbformat": 4
 },
 "nbformat": 4,
 "nbformat_minor": 2
}
