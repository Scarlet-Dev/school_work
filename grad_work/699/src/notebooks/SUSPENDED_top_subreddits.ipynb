{
 "cells": [
  {
   "cell_type": "code",
   "execution_count": null,
   "metadata": {},
   "outputs": [],
   "source": [
    "import requests\n",
    "import json\n",
    "import pandas as pd\n",
    "\n",
    "base_url = \"https://api.reddit.com/\"\n",
    "head = {'client_id': \"4x0Ri2sz42uBoDezCS-ERg\",\n",
    "    'client_secret': \"NedXTYoIwDaW0DlXaTWMXvXDe3O9lg\",\n",
    "    'user_agent': \"ANLY540-NotBot\"}\n"
   ]
  },
  {
   "cell_type": "code",
   "execution_count": null,
   "metadata": {},
   "outputs": [],
   "source": [
    "topSubreddits = base_url + 'subreddits/popular?limit=50'\n",
    "res = requests.get( topSubreddits, headers = head )"
   ]
  },
  {
   "cell_type": "code",
   "execution_count": null,
   "metadata": {},
   "outputs": [],
   "source": [
    "res.close()"
   ]
  },
  {
   "cell_type": "code",
   "execution_count": null,
   "metadata": {},
   "outputs": [],
   "source": [
    "# res.json()[\"data\"][\"children\"][1]['data']['display_name']\n",
    "# data = res.json()[\"data\"][\"children\"][1]['data']\n",
    "for sub in res.json()[\"data\"][\"children\"][0]['data']:\n",
    "    print(str(sub))"
   ]
  },
  {
   "cell_type": "code",
   "execution_count": 12,
   "metadata": {},
   "outputs": [
    {
     "data": {
      "text/plain": [
       "'{\\'user_flair_background_color\\': None, \\'submit_text_html\\': None, \\'restrict_posting\\': True, \\'user_is_banned\\': None, \\'free_form_reports\\': True, \\'wiki_enabled\\': False, \\'user_is_muted\\': None, \\'user_can_flair_in_sr\\': None, \\'display_name\\': \\'Home\\', \\'header_img\\': None, \\'title\\': \\'Home\\', \\'allow_galleries\\': True, \\'icon_size\\': None, \\'primary_color\\': \\'\\', \\'active_user_count\\': None, \\'icon_img\\': \\'\\', \\'display_name_prefixed\\': \\'r/Home\\', \\'accounts_active\\': None, \\'public_traffic\\': False, \\'subscribers\\': 121488, \\'user_flair_richtext\\': [], \\'videostream_links_count\\': 5, \\'name\\': \\'t5_2qs0k\\', \\'quarantine\\': False, \\'hide_ads\\': False, \\'prediction_leaderboard_entry_type\\': \\'SUBREDDIT_HEADER\\', \\'emojis_enabled\\': False, \\'advertiser_category\\': \\'\\', \\'public_description\\': \\'\\', \\'comment_score_hide_mins\\': 0, \\'allow_predictions\\': False, \\'user_has_favorited\\': None, \\'user_flair_template_id\\': None, \\'community_icon\\': \\'\\', \\'banner_background_image\\': \\'\\', \\'original_content_tag_enabled\\': False, \\'community_reviewed\\': True, \\'submit_text\\': \\'\\', \\'description_html\\': \\'&lt;!-- SC_OFF --&gt;&lt;div class=\"md\"&gt;&lt;p&gt;Everything home related: interior design, home improvement, architecture.&lt;/p&gt;\\\\n\\\\n&lt;h2&gt;&lt;strong&gt;Related subreddits&lt;/strong&gt;&lt;/h2&gt;\\\\n\\\\n&lt;ul&gt;\\\\n&lt;li&gt;&lt;a href=\"http://www.reddit.com/r/interiordesign\"&gt;/r/InteriorDesign&lt;/a&gt;&lt;/li&gt;\\\\n&lt;li&gt;&lt;a href=\"http://www.reddit.com/r/architecture\"&gt;/r/architecture&lt;/a&gt;&lt;/li&gt;\\\\n&lt;li&gt;&lt;a href=\"http://www.reddit.com/r/houseporn\"&gt;/r/houseporn&lt;/a&gt;&lt;/li&gt;\\\\n&lt;li&gt;&lt;a href=\"http://www.reddit.com/r/roomporn\"&gt;/r/roomporn&lt;/a&gt;&lt;/li&gt;\\\\n&lt;li&gt;&lt;a href=\"http://www.reddit.com/r/designmyroom\"&gt;/r/designmyroom&lt;/a&gt;&lt;/li&gt;\\\\n&lt;/ul&gt;\\\\n&lt;/div&gt;&lt;!-- SC_ON --&gt;\\', \\'spoilers_enabled\\': True, \\'comment_contribution_settings\\': {\\'allowed_media_types\\': [\\'expression\\']}, \\'allow_talks\\': False, \\'header_size\\': None, \\'user_flair_position\\': \\'right\\', \\'all_original_content\\': False, \\'has_menu_widget\\': False, \\'is_enrolled_in_new_modmail\\': None, \\'key_color\\': \\'\\', \\'can_assign_user_flair\\': True, \\'created\\': 1232850357.0, \\'wls\\': 6, \\'show_media_preview\\': True, \\'submission_type\\': \\'any\\', \\'user_is_subscriber\\': None, \\'allowed_media_in_comments\\': [\\'expression\\'], \\'allow_videogifs\\': True, \\'should_archive_posts\\': False, \\'user_flair_type\\': \\'text\\', \\'allow_polls\\': True, \\'collapse_deleted_comments\\': False, \\'emojis_custom_size\\': None, \\'public_description_html\\': None, \\'allow_videos\\': True, \\'is_crosspostable_subreddit\\': False, \\'suggested_comment_sort\\': None, \\'should_show_media_in_comments_setting\\': True, \\'can_assign_link_flair\\': True, \\'accounts_active_is_fuzzed\\': False, \\'allow_prediction_contributors\\': False, \\'submit_text_label\\': \\'\\', \\'link_flair_position\\': \\'right\\', \\'user_sr_flair_enabled\\': None, \\'user_flair_enabled_in_sr\\': False, \\'allow_chat_post_creation\\': False, \\'allow_discovery\\': True, \\'accept_followers\\': True, \\'user_sr_theme_enabled\\': True, \\'link_flair_enabled\\': True, \\'disable_contributor_requests\\': False, \\'subreddit_type\\': \\'public\\', \\'notification_level\\': None, \\'banner_img\\': \\'\\', \\'user_flair_text\\': None, \\'banner_background_color\\': \\'\\', \\'show_media\\': True, \\'id\\': \\'2qs0k\\', \\'user_is_contributor\\': None, \\'over18\\': False, \\'header_title\\': \\'\\', \\'description\\': \\'Everything home related: interior design, home improvement, architecture.\\\\n\\\\n**Related subreddits**\\\\n--------------------------\\\\n* [/r/InteriorDesign](http://www.reddit.com/r/interiordesign)\\\\n* [/r/architecture](http://www.reddit.com/r/architecture)\\\\n* [/r/houseporn](http://www.reddit.com/r/houseporn)\\\\n* [/r/roomporn](http://www.reddit.com/r/roomporn)\\\\n* [/r/designmyroom](http://www.reddit.com/r/designmyroom)\\', \\'is_chat_post_feature_enabled\\': True, \\'submit_link_label\\': \\'\\', \\'user_flair_text_color\\': None, \\'restrict_commenting\\': False, \\'user_flair_css_class\\': None, \\'allow_images\\': True, \\'lang\\': \\'en\\', \\'whitelist_status\\': \\'all_ads\\', \\'url\\': \\'/r/Home/\\', \\'created_utc\\': 1232850357.0, \\'banner_size\\': None, \\'mobile_banner_image\\': \\'\\', \\'user_is_moderator\\': None, \\'allow_predictions_tournament\\': False}'"
      ]
     },
     "execution_count": 12,
     "metadata": {},
     "output_type": "execute_result"
    }
   ],
   "source": [
    "str(res.json()[\"data\"][\"children\"][0]['data'])"
   ]
  },
  {
   "cell_type": "code",
   "execution_count": null,
   "metadata": {},
   "outputs": [],
   "source": []
  },
  {
   "cell_type": "code",
   "execution_count": null,
   "metadata": {},
   "outputs": [],
   "source": [
    "print(res.content)"
   ]
  }
 ],
 "metadata": {
  "kernelspec": {
   "display_name": "base",
   "language": "python",
   "name": "python3"
  },
  "language_info": {
   "codemirror_mode": {
    "name": "ipython",
    "version": 3
   },
   "file_extension": ".py",
   "mimetype": "text/x-python",
   "name": "python",
   "nbconvert_exporter": "python",
   "pygments_lexer": "ipython3",
   "version": "3.9.16"
  },
  "orig_nbformat": 4
 },
 "nbformat": 4,
 "nbformat_minor": 2
}
